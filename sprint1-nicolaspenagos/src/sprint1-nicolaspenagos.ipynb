{
 "cells": [
  {
   "cell_type": "code",
   "execution_count": 1,
   "id": "f0ec2bd8",
   "metadata": {},
   "outputs": [
    {
     "name": "stdout",
     "output_type": "stream",
     "text": [
      "\u001b[1;31mOrignial dataset:\u001b[0;30m\n",
      "\n",
      "   firstname  weight  pizzaPreference\n",
      "0     Vivia      64                3\n",
      "1   Stevana      86                7\n",
      "2  Dulcinea      72                6\n",
      "3    Orsola      89               10\n",
      "4   Mildrid      98                8\n"
     ]
    }
   ],
   "source": [
    "#-------------------------------------------------------------------------------\n",
    "# SOLUTION SETUP (RUN THIS FIRST)\n",
    "#-------------------------------------------------------------------------------\n",
    "\n",
    "import pandas as pd  \n",
    "\n",
    "# ANSI color codes\n",
    "GRAY = \"\\033[0;30m\"\n",
    "LIGHT_RED = \"\\033[1;31m\"\n",
    "LIGHT_BLUE = \"\\033[1;34m\"\n",
    "\n",
    "input_text = \"{} By which column do you want to sort the names?\\n Enter '1A' to sort by weight in ascending order or '1D' to sort by weight in descending order. \\n Enter '2A' to sort by pizza preference in ascending order or '2D' to sort by pizza preference in descending order\\n Enter '3' for exit\\n\\n{}\".format(LIGHT_BLUE, GRAY)\n",
    "\n",
    "# Load and print the original dataset\n",
    "\n",
    "df = pd.read_csv(\"../data/small-dataset.csv\")\n",
    "#df = pd.read_csv(\"../data/big-dataset.csv\")\n",
    "\n",
    "print(\"{}Orignial dataset:{}\\n\\n\".format(LIGHT_RED, GRAY), df)\n",
    "\n",
    "# Loggic mapping for the menu options\n",
    "menuMapping = {\n",
    "        \"1A\":(\"weight\", True),\n",
    "        \"1D\":(\"weight\", False),\n",
    "        \"2A\":(\"pizzaPreference\", True),\n",
    "        \"2D\":(\"pizzaPreference\", False)\n",
    "}\n",
    "\n",
    "def get_correct_menu_logic(menuOption):\n",
    " \n",
    "    column = menuMapping[menuOption][0]\n",
    "    ascending = menuMapping[menuOption][1]\n",
    "\n",
    "    return column, ascending\n",
    "\n"
   ]
  },
  {
   "cell_type": "code",
   "execution_count": null,
   "id": "783d3b3a",
   "metadata": {},
   "outputs": [
    {
     "name": "stdout",
     "output_type": "stream",
     "text": [
      " By which column do you want to sort the names?\n",
      " Enter '1A' to sort by weight in ascending order or '1D' to sort by weight in descending order. \n",
      " Enter '2A' to sort by pizza preference in ascending order or '2D' to sort by pizza preference in descending order\n",
      " Enter '3' for exit\n",
      "\n",
      "1A\n",
      "\u001b[0;30m\n",
      "   firstname  weight  pizzaPreference\n",
      "0     Vivia      64                3\n",
      "2  Dulcinea      72                6\n",
      "1   Stevana      86                7\n",
      "3    Orsola      89               10\n",
      "4   Mildrid      98                8 \n",
      "\n",
      " By which column do you want to sort the names?\n",
      " Enter '1A' to sort by weight in ascending order or '1D' to sort by weight in descending order. \n",
      " Enter '2A' to sort by pizza preference in ascending order or '2D' to sort by pizza preference in descending order\n",
      " Enter '3' for exit\n",
      "\n",
      "2D\n",
      "\u001b[0;30m\n",
      "   firstname  weight  pizzaPreference\n",
      "3    Orsola      89               10\n",
      "4   Mildrid      98                8\n",
      "1   Stevana      86                7\n",
      "2  Dulcinea      72                6\n",
      "0     Vivia      64                3 \n",
      "\n"
     ]
    }
   ],
   "source": [
    "#-------------------------------------------------------------------------------\n",
    "# SPRINT SOLUTION\n",
    "#-------------------------------------------------------------------------------\n",
    "while(True):\n",
    "    \n",
    "    menuOption = input(input_text)\n",
    "    \n",
    "    if(menuOption == \"3\"):\n",
    "        break\n",
    "        \n",
    "    if(menuOption in menuMapping.keys()):\n",
    "        \n",
    "        column, order = get_correct_menu_logic(menuOption)\n",
    "        temp_df = df.sort_values(by=column, ascending = order)\n",
    "        print(GRAY+\"\\n\",temp_df, \"\\n\")\n",
    "        \n",
    "    else:\n",
    "        print(LIGHT_RED+\"\\nWrong input!\\n\"+GRAY)\n",
    "    \n",
    "    \n",
    "   "
   ]
  }
 ],
 "metadata": {
  "kernelspec": {
   "display_name": "Python 3 (ipykernel)",
   "language": "python",
   "name": "python3"
  },
  "language_info": {
   "codemirror_mode": {
    "name": "ipython",
    "version": 3
   },
   "file_extension": ".py",
   "mimetype": "text/x-python",
   "name": "python",
   "nbconvert_exporter": "python",
   "pygments_lexer": "ipython3",
   "version": "3.9.13"
  }
 },
 "nbformat": 4,
 "nbformat_minor": 5
}
